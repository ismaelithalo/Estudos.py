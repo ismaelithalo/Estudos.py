{
  "nbformat": 4,
  "nbformat_minor": 0,
  "metadata": {
    "colab": {
      "provenance": [],
      "authorship_tag": "ABX9TyNJDSlHGo0fZLTsh6QfcBWH",
      "include_colab_link": true
    },
    "kernelspec": {
      "name": "python3",
      "display_name": "Python 3"
    },
    "language_info": {
      "name": "python"
    }
  },
  "cells": [
    {
      "cell_type": "markdown",
      "metadata": {
        "id": "view-in-github",
        "colab_type": "text"
      },
      "source": [
        "<a href=\"https://colab.research.google.com/github/ismaelithalo/Estudos.py/blob/master/mlpack_notebook.ipynb\" target=\"_parent\"><img src=\"https://colab.research.google.com/assets/colab-badge.svg\" alt=\"Open In Colab\"/></a>"
      ]
    },
    {
      "cell_type": "markdown",
      "source": [
        "**MLPACK**"
      ],
      "metadata": {
        "id": "gAUh35mSLUYe"
      }
    },
    {
      "cell_type": "markdown",
      "source": [
        "Instalando MLPACK"
      ],
      "metadata": {
        "id": "4hPfOcDlL2g5"
      }
    },
    {
      "cell_type": "code",
      "source": [
        "!pip install mlpack"
      ],
      "metadata": {
        "colab": {
          "base_uri": "https://localhost:8080/"
        },
        "id": "1ZY9dnY_Lmjy",
        "outputId": "7d7c4d18-3896-4af7-c7ca-73adbab029d5"
      },
      "execution_count": 2,
      "outputs": [
        {
          "output_type": "stream",
          "name": "stdout",
          "text": [
            "Collecting mlpack\n",
            "  Downloading mlpack-4.2.1-cp310-cp310-manylinux_2_17_x86_64.manylinux2014_x86_64.whl (37.7 MB)\n",
            "\u001b[2K     \u001b[90m━━━━━━━━━━━━━━━━━━━━━━━━━━━━━━━━━━━━━━━━\u001b[0m \u001b[32m37.7/37.7 MB\u001b[0m \u001b[31m34.0 MB/s\u001b[0m eta \u001b[36m0:00:00\u001b[0m\n",
            "\u001b[?25hRequirement already satisfied: cython>=0.24 in /usr/local/lib/python3.10/dist-packages (from mlpack) (3.0.4)\n",
            "Requirement already satisfied: numpy in /usr/local/lib/python3.10/dist-packages (from mlpack) (1.23.5)\n",
            "Requirement already satisfied: pandas in /usr/local/lib/python3.10/dist-packages (from mlpack) (1.5.3)\n",
            "Requirement already satisfied: python-dateutil>=2.8.1 in /usr/local/lib/python3.10/dist-packages (from pandas->mlpack) (2.8.2)\n",
            "Requirement already satisfied: pytz>=2020.1 in /usr/local/lib/python3.10/dist-packages (from pandas->mlpack) (2023.3.post1)\n",
            "Requirement already satisfied: six>=1.5 in /usr/local/lib/python3.10/dist-packages (from python-dateutil>=2.8.1->pandas->mlpack) (1.16.0)\n",
            "Installing collected packages: mlpack\n",
            "Successfully installed mlpack-4.2.1\n"
          ]
        }
      ]
    },
    {
      "cell_type": "markdown",
      "source": [
        "Instalando outras possíveis dependências (a princípio desnecessário)"
      ],
      "metadata": {
        "id": "UMYPMZ55L6YL"
      }
    },
    {
      "cell_type": "code",
      "source": [
        "!pip install pandas\n",
        "!pip install numpy"
      ],
      "metadata": {
        "colab": {
          "base_uri": "https://localhost:8080/"
        },
        "id": "fd3Nr_t3L5kY",
        "outputId": "8ad7f6db-97b7-4630-b61c-be75bc3f2a42"
      },
      "execution_count": 4,
      "outputs": [
        {
          "output_type": "stream",
          "name": "stdout",
          "text": [
            "Requirement already satisfied: pandas in /usr/local/lib/python3.10/dist-packages (1.5.3)\n",
            "Requirement already satisfied: python-dateutil>=2.8.1 in /usr/local/lib/python3.10/dist-packages (from pandas) (2.8.2)\n",
            "Requirement already satisfied: pytz>=2020.1 in /usr/local/lib/python3.10/dist-packages (from pandas) (2023.3.post1)\n",
            "Requirement already satisfied: numpy>=1.21.0 in /usr/local/lib/python3.10/dist-packages (from pandas) (1.23.5)\n",
            "Requirement already satisfied: six>=1.5 in /usr/local/lib/python3.10/dist-packages (from python-dateutil>=2.8.1->pandas) (1.16.0)\n",
            "Requirement already satisfied: numpy in /usr/local/lib/python3.10/dist-packages (1.23.5)\n"
          ]
        }
      ]
    },
    {
      "cell_type": "markdown",
      "source": [
        "Exemplo fornecido na página inicial do site do mlpack para testes da biblioteca"
      ],
      "metadata": {
        "id": "33U8fBlzLIZk"
      }
    },
    {
      "cell_type": "code",
      "execution_count": 5,
      "metadata": {
        "colab": {
          "base_uri": "https://localhost:8080/"
        },
        "id": "MipG-BW0LGXP",
        "outputId": "6e9e2939-205c-4bf7-b311-53aae9e536c8"
      },
      "outputs": [
        {
          "output_type": "stream",
          "name": "stdout",
          "text": [
            "24224 correct out of 30000 (80.74666666666667%).\n"
          ]
        }
      ],
      "source": [
        "# Simple classification on a subset of the standard machine learning covertype dataset.\n",
        "# We'll first split the dataset into a training set and a testing set, then we'll train\n",
        "# an mlpack Random Forest on the training data, and finally we'll print the accuracy of\n",
        "# the random forest on the test dataset.\n",
        "\n",
        "import mlpack\n",
        "import pandas as pd\n",
        "import numpy as np\n",
        "\n",
        "# Load the dataset from an online URL.  Replace with \"covertype.csv.gz\" if you\n",
        "# want to use on the full dataset.\n",
        "df = pd.read_csv(\"https://www.mlpack.org/datasets/covertype-small.csv.gz\")\n",
        "\n",
        "# Split the labels.\n",
        "labels = df[\"label\"]\n",
        "dataset = df.drop(\"label\", axis=1)\n",
        "\n",
        "# Split the dataset using mlpack.  The output comes back as a dictionary,\n",
        "# which we will unpack for clarity of code.\n",
        "output = mlpack.preprocess_split(input_=dataset,\n",
        "                                 input_labels=labels,\n",
        "                                 test_ratio=0.3)\n",
        "training_set = output[\"training\"]\n",
        "training_labels = output[\"training_labels\"]\n",
        "test_set = output[\"test\"]\n",
        "test_labels = output[\"test_labels\"]\n",
        "\n",
        "# Train a random forest.\n",
        "output = mlpack.random_forest(training=training_set,\n",
        "                              labels=training_labels,\n",
        "                              print_training_accuracy=True,\n",
        "                              num_trees=10,\n",
        "                              minimum_leaf_size=3)\n",
        "random_forest = output[\"output_model\"]\n",
        "\n",
        "# Predict the labels of the test points.\n",
        "output = mlpack.random_forest(input_model=random_forest,\n",
        "                              test=test_set)\n",
        "\n",
        "# Now print the accuracy.  The \"probabilities\" output could also be used\n",
        "# to generate an ROC curve.\n",
        "correct = np.sum(\n",
        "    output[\"predictions\"] == np.reshape(test_labels, (test_labels.shape[0],)))\n",
        "print(str(correct) + \" correct out of \" + str(len(test_labels)) + \" (\" +\n",
        "    str(100 * float(correct) / float(len(test_labels))) + \"%).\")\n"
      ]
    }
  ]
}